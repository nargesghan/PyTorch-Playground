{
  "nbformat": 4,
  "nbformat_minor": 0,
  "metadata": {
    "colab": {
      "provenance": []
    },
    "kernelspec": {
      "name": "python3",
      "display_name": "Python 3"
    },
    "language_info": {
      "name": "python"
    }
  },
  "cells": [
    {
      "cell_type": "code",
      "execution_count": 2,
      "metadata": {
        "id": "Hjs78ivwKvyp"
      },
      "outputs": [],
      "source": [
        "import torch\n",
        "import numpy as np\n",
        "import matplotlib.pyplot as plt"
      ]
    },
    {
      "cell_type": "markdown",
      "source": [
        "# **week 1**"
      ],
      "metadata": {
        "id": "US6P9S-zNNwn"
      }
    },
    {
      "cell_type": "code",
      "source": [
        "torch.__version__"
      ],
      "metadata": {
        "colab": {
          "base_uri": "https://localhost:8080/",
          "height": 35
        },
        "id": "fRAp9lteMrhM",
        "outputId": "ad4d6005-83b5-4ead-952d-35470ebe39f7"
      },
      "execution_count": 3,
      "outputs": [
        {
          "output_type": "execute_result",
          "data": {
            "text/plain": [
              "'2.4.1+cu121'"
            ],
            "application/vnd.google.colaboratory.intrinsic+json": {
              "type": "string"
            }
          },
          "metadata": {},
          "execution_count": 3
        }
      ]
    },
    {
      "cell_type": "markdown",
      "source": [
        "##what is pytorch"
      ],
      "metadata": {
        "id": "LIH0BckXN-6E"
      }
    },
    {
      "cell_type": "markdown",
      "source": [
        "\n",
        "\n",
        "*   tensor computation(like numpy) np.array==torch.tensor are equal but we can compute our algorithms more quicker  using GPU which we couldn't did that using numpy\n",
        "*   train deep neural networks using outograd\n",
        "\n"
      ],
      "metadata": {
        "id": "HkiRrTI_OEzX"
      }
    },
    {
      "cell_type": "markdown",
      "source": [
        "##tensor"
      ],
      "metadata": {
        "id": "9D2WQIWAPBXT"
      }
    },
    {
      "cell_type": "code",
      "source": [
        "#scalar\n",
        "torch.tensor(4)\n",
        "#zero dimentional tensor"
      ],
      "metadata": {
        "colab": {
          "base_uri": "https://localhost:8080/"
        },
        "id": "8B2ZYwKAN7Ur",
        "outputId": "9c410c31-7130-439d-dc1e-c4eaf4416fd4"
      },
      "execution_count": 4,
      "outputs": [
        {
          "output_type": "execute_result",
          "data": {
            "text/plain": [
              "tensor(4)"
            ]
          },
          "metadata": {},
          "execution_count": 4
        }
      ]
    },
    {
      "cell_type": "code",
      "source": [
        "#vector\n",
        "torch.tensor([1.0, 2, 3])\n",
        "#1 dimentional tensor"
      ],
      "metadata": {
        "colab": {
          "base_uri": "https://localhost:8080/"
        },
        "id": "aSatGuoXPN_x",
        "outputId": "8d1862eb-0b1a-4f36-b920-ab0adcb0510f"
      },
      "execution_count": 7,
      "outputs": [
        {
          "output_type": "execute_result",
          "data": {
            "text/plain": [
              "tensor([1., 2., 3.])"
            ]
          },
          "metadata": {},
          "execution_count": 7
        }
      ]
    },
    {
      "cell_type": "code",
      "source": [
        "#matrix\n",
        "torch.tensor([[1,2,3], [4.0,5,6]])\n",
        "#2 dimentional tensor"
      ],
      "metadata": {
        "colab": {
          "base_uri": "https://localhost:8080/"
        },
        "id": "zrNFi2fqPfpZ",
        "outputId": "5673385c-82b4-4b01-8496-bcc47e9feb8d"
      },
      "execution_count": 8,
      "outputs": [
        {
          "output_type": "execute_result",
          "data": {
            "text/plain": [
              "tensor([[1., 2., 3.],\n",
              "        [4., 5., 6.]])"
            ]
          },
          "metadata": {},
          "execution_count": 8
        }
      ]
    },
    {
      "cell_type": "code",
      "source": [
        "#column vector\n",
        "torch.tensor([[1],[2],[3],[4]])"
      ],
      "metadata": {
        "colab": {
          "base_uri": "https://localhost:8080/"
        },
        "id": "eT9J6s0MP0mi",
        "outputId": "45babfd9-c17f-470b-9306-c1f8e894c50e"
      },
      "execution_count": 13,
      "outputs": [
        {
          "output_type": "execute_result",
          "data": {
            "text/plain": [
              "tensor([[1],\n",
              "        [2],\n",
              "        [3],\n",
              "        [4]])"
            ]
          },
          "metadata": {},
          "execution_count": 13
        }
      ]
    },
    {
      "cell_type": "code",
      "source": [
        "#row vector\n",
        "torch.tensor([[1,2,3,4]])\n",
        "#this is more useful than vector which is 1 dimentional data structure when we\n",
        "#are working with matrices"
      ],
      "metadata": {
        "colab": {
          "base_uri": "https://localhost:8080/"
        },
        "id": "x-SwgfGVQDaV",
        "outputId": "a9777a25-0563-4d83-8c45-e2cc9aaa3cab"
      },
      "execution_count": 11,
      "outputs": [
        {
          "output_type": "execute_result",
          "data": {
            "text/plain": [
              "tensor([[1, 2, 3, 4]])"
            ]
          },
          "metadata": {},
          "execution_count": 11
        }
      ]
    },
    {
      "cell_type": "code",
      "source": [
        "#N-d tensor\n",
        "#this is useful in deep learning\n",
        "torch.tensor(\n",
        "    [\n",
        "        [\n",
        "            [1,2,3],\n",
        "            [4,5,6]\n",
        "    ],\n",
        "        [\n",
        "            [7,8,9],\n",
        "            [10,11,12]\n",
        "        ],\n",
        "        [\n",
        "            [1,2,3],\n",
        "            [1,2,3]\n",
        "        ]\n",
        "    ]\n",
        ")\n",
        "#in the above code we created 3 dimentional tensor"
      ],
      "metadata": {
        "colab": {
          "base_uri": "https://localhost:8080/"
        },
        "id": "A5kc_LlVQK_3",
        "outputId": "44f10754-7c9d-40f9-ccdb-4db325f3cb23"
      },
      "execution_count": 15,
      "outputs": [
        {
          "output_type": "execute_result",
          "data": {
            "text/plain": [
              "tensor([[[ 1,  2,  3],\n",
              "         [ 4,  5,  6]],\n",
              "\n",
              "        [[ 7,  8,  9],\n",
              "         [10, 11, 12]],\n",
              "\n",
              "        [[ 1,  2,  3],\n",
              "         [ 1,  2,  3]]])"
            ]
          },
          "metadata": {},
          "execution_count": 15
        }
      ]
    },
    {
      "cell_type": "markdown",
      "source": [
        "##Data type"
      ],
      "metadata": {
        "id": "nzWFY8P-R52t"
      }
    },
    {
      "cell_type": "code",
      "source": [
        "a=torch.tensor([1,2,3])\n",
        "b=torch.tensor([1,2,3.])"
      ],
      "metadata": {
        "id": "kAp_LCPORgqm"
      },
      "execution_count": 16,
      "outputs": []
    },
    {
      "cell_type": "code",
      "source": [
        "a.dtype, b.dtype"
      ],
      "metadata": {
        "colab": {
          "base_uri": "https://localhost:8080/"
        },
        "id": "l29zt0E6SDvP",
        "outputId": "100bbd98-0f88-4ec1-c5c6-f536ad82fdb9"
      },
      "execution_count": 17,
      "outputs": [
        {
          "output_type": "execute_result",
          "data": {
            "text/plain": [
              "(torch.int64, torch.float32)"
            ]
          },
          "metadata": {},
          "execution_count": 17
        }
      ]
    },
    {
      "cell_type": "code",
      "source": [
        "#define a tensor with unint8 datatype\n",
        "a=torch.tensor([1,2,3], dtype=torch.uint8)\n",
        "a.dtype,a"
      ],
      "metadata": {
        "colab": {
          "base_uri": "https://localhost:8080/"
        },
        "id": "aRQbK4loSFbW",
        "outputId": "d00e7a95-d751-4b19-8c3a-ca377ad2544a"
      },
      "execution_count": 19,
      "outputs": [
        {
          "output_type": "execute_result",
          "data": {
            "text/plain": [
              "(torch.uint8, tensor([1, 2, 3], dtype=torch.uint8))"
            ]
          },
          "metadata": {},
          "execution_count": 19
        }
      ]
    },
    {
      "cell_type": "code",
      "source": [
        "#convert datatype\n",
        "a=a.type(torch.float16)\n",
        "a"
      ],
      "metadata": {
        "colab": {
          "base_uri": "https://localhost:8080/"
        },
        "id": "mfNJo9TmSw4P",
        "outputId": "b741f992-02db-4626-da7f-a8906f9f8def"
      },
      "execution_count": 20,
      "outputs": [
        {
          "output_type": "execute_result",
          "data": {
            "text/plain": [
              "tensor([1., 2., 3.], dtype=torch.float16)"
            ]
          },
          "metadata": {},
          "execution_count": 20
        }
      ]
    },
    {
      "cell_type": "code",
      "source": [
        "a=a.short()\n",
        "a"
      ],
      "metadata": {
        "colab": {
          "base_uri": "https://localhost:8080/"
        },
        "id": "5ws5vtsXTJZ0",
        "outputId": "f82745a5-7f06-486b-ab99-0986b66b3817"
      },
      "execution_count": 22,
      "outputs": [
        {
          "output_type": "execute_result",
          "data": {
            "text/plain": [
              "tensor([1, 2, 3], dtype=torch.int16)"
            ]
          },
          "metadata": {},
          "execution_count": 22
        }
      ]
    },
    {
      "cell_type": "code",
      "source": [
        "#check device where our tensor is on\n",
        "a.device"
      ],
      "metadata": {
        "colab": {
          "base_uri": "https://localhost:8080/"
        },
        "id": "Z3eSkPBqTTbC",
        "outputId": "aebafa21-329a-4a30-b936-c966a3ac9f3e"
      },
      "execution_count": 23,
      "outputs": [
        {
          "output_type": "execute_result",
          "data": {
            "text/plain": [
              "device(type='cpu')"
            ]
          },
          "metadata": {},
          "execution_count": 23
        }
      ]
    },
    {
      "cell_type": "code",
      "source": [
        "#you have to change your runtime to GPU before running this line\n",
        "a=torch.tensor([1,2,3], device='cuda')\n",
        "#this tnsor will be saved on the GPU ram"
      ],
      "metadata": {
        "colab": {
          "base_uri": "https://localhost:8080/",
          "height": 280
        },
        "id": "k527i6lQTaKn",
        "outputId": "b10bed42-bf36-4722-8421-7a4a3e69d335"
      },
      "execution_count": 24,
      "outputs": [
        {
          "output_type": "error",
          "ename": "RuntimeError",
          "evalue": "Found no NVIDIA driver on your system. Please check that you have an NVIDIA GPU and installed a driver from http://www.nvidia.com/Download/index.aspx",
          "traceback": [
            "\u001b[0;31m---------------------------------------------------------------------------\u001b[0m",
            "\u001b[0;31mRuntimeError\u001b[0m                              Traceback (most recent call last)",
            "\u001b[0;32m<ipython-input-24-ccaaa4c72a95>\u001b[0m in \u001b[0;36m<cell line: 2>\u001b[0;34m()\u001b[0m\n\u001b[1;32m      1\u001b[0m \u001b[0;31m#you have to change your runtime to GPU before running this line\u001b[0m\u001b[0;34m\u001b[0m\u001b[0;34m\u001b[0m\u001b[0m\n\u001b[0;32m----> 2\u001b[0;31m \u001b[0ma\u001b[0m\u001b[0;34m=\u001b[0m\u001b[0mtorch\u001b[0m\u001b[0;34m.\u001b[0m\u001b[0mtensor\u001b[0m\u001b[0;34m(\u001b[0m\u001b[0;34m[\u001b[0m\u001b[0;36m1\u001b[0m\u001b[0;34m,\u001b[0m\u001b[0;36m2\u001b[0m\u001b[0;34m,\u001b[0m\u001b[0;36m3\u001b[0m\u001b[0;34m]\u001b[0m\u001b[0;34m,\u001b[0m \u001b[0mdevice\u001b[0m\u001b[0;34m=\u001b[0m\u001b[0;34m'cuda'\u001b[0m\u001b[0;34m)\u001b[0m\u001b[0;34m\u001b[0m\u001b[0;34m\u001b[0m\u001b[0m\n\u001b[0m",
            "\u001b[0;32m/usr/local/lib/python3.10/dist-packages/torch/cuda/__init__.py\u001b[0m in \u001b[0;36m_lazy_init\u001b[0;34m()\u001b[0m\n\u001b[1;32m    312\u001b[0m         \u001b[0;32mif\u001b[0m \u001b[0;34m\"CUDA_MODULE_LOADING\"\u001b[0m \u001b[0;32mnot\u001b[0m \u001b[0;32min\u001b[0m \u001b[0mos\u001b[0m\u001b[0;34m.\u001b[0m\u001b[0menviron\u001b[0m\u001b[0;34m:\u001b[0m\u001b[0;34m\u001b[0m\u001b[0;34m\u001b[0m\u001b[0m\n\u001b[1;32m    313\u001b[0m             \u001b[0mos\u001b[0m\u001b[0;34m.\u001b[0m\u001b[0menviron\u001b[0m\u001b[0;34m[\u001b[0m\u001b[0;34m\"CUDA_MODULE_LOADING\"\u001b[0m\u001b[0;34m]\u001b[0m \u001b[0;34m=\u001b[0m \u001b[0;34m\"LAZY\"\u001b[0m\u001b[0;34m\u001b[0m\u001b[0;34m\u001b[0m\u001b[0m\n\u001b[0;32m--> 314\u001b[0;31m         \u001b[0mtorch\u001b[0m\u001b[0;34m.\u001b[0m\u001b[0m_C\u001b[0m\u001b[0;34m.\u001b[0m\u001b[0m_cuda_init\u001b[0m\u001b[0;34m(\u001b[0m\u001b[0;34m)\u001b[0m\u001b[0;34m\u001b[0m\u001b[0;34m\u001b[0m\u001b[0m\n\u001b[0m\u001b[1;32m    315\u001b[0m         \u001b[0;31m# Some of the queued calls may reentrantly call _lazy_init();\u001b[0m\u001b[0;34m\u001b[0m\u001b[0;34m\u001b[0m\u001b[0m\n\u001b[1;32m    316\u001b[0m         \u001b[0;31m# we need to just return without initializing in that case.\u001b[0m\u001b[0;34m\u001b[0m\u001b[0;34m\u001b[0m\u001b[0m\n",
            "\u001b[0;31mRuntimeError\u001b[0m: Found no NVIDIA driver on your system. Please check that you have an NVIDIA GPU and installed a driver from http://www.nvidia.com/Download/index.aspx"
          ]
        }
      ]
    },
    {
      "cell_type": "code",
      "source": [
        "#convert from GPU to CPU\n",
        "a=a.cpu"
      ],
      "metadata": {
        "id": "eN33RM1BT-Mg"
      },
      "execution_count": 25,
      "outputs": []
    },
    {
      "cell_type": "markdown",
      "source": [
        "##attributes and methods of tensor"
      ],
      "metadata": {
        "id": "Joa9Byb8UaCz"
      }
    },
    {
      "cell_type": "markdown",
      "source": [
        "**.shape**"
      ],
      "metadata": {
        "id": "HGK6G3V-W_VU"
      }
    },
    {
      "cell_type": "code",
      "source": [
        "scalar=torch.tensor(1)\n",
        "vec=torch.tensor([1,2,3])\n",
        "mat=torch.tensor([[1,2,3],[4,5,6]])\n",
        "tensor= torch.tensor([[[1,2,3],[4,3,4]],[[4,3.,4],[5,6,7]]])"
      ],
      "metadata": {
        "id": "rpPwcxesUP4p"
      },
      "execution_count": 28,
      "outputs": []
    },
    {
      "cell_type": "code",
      "source": [
        "scalar.shape, vec.shape, mat.shape, tensor.shape"
      ],
      "metadata": {
        "colab": {
          "base_uri": "https://localhost:8080/"
        },
        "id": "VAPz1VyYV8uY",
        "outputId": "dc270153-22b6-4dc0-9cc0-67b37ef91e82"
      },
      "execution_count": 31,
      "outputs": [
        {
          "output_type": "execute_result",
          "data": {
            "text/plain": [
              "(torch.Size([]), torch.Size([3]), torch.Size([2, 3]), torch.Size([2, 2, 3]))"
            ]
          },
          "metadata": {},
          "execution_count": 31
        }
      ]
    },
    {
      "cell_type": "code",
      "source": [
        "c,r,cc=tensor.shape\n",
        "c,r,cc"
      ],
      "metadata": {
        "colab": {
          "base_uri": "https://localhost:8080/"
        },
        "id": "Mq4cOGJvWKOA",
        "outputId": "a0ee9406-e529-4435-f091-5a44e6f5c239"
      },
      "execution_count": 33,
      "outputs": [
        {
          "output_type": "execute_result",
          "data": {
            "text/plain": [
              "(2, 2, 3)"
            ]
          },
          "metadata": {},
          "execution_count": 33
        }
      ]
    },
    {
      "cell_type": "code",
      "source": [
        "tensor.shape[2]"
      ],
      "metadata": {
        "colab": {
          "base_uri": "https://localhost:8080/"
        },
        "id": "uFxeIj3cWxEq",
        "outputId": "8658b5b3-0380-49d3-cc4f-429e68dac008"
      },
      "execution_count": 35,
      "outputs": [
        {
          "output_type": "execute_result",
          "data": {
            "text/plain": [
              "3"
            ]
          },
          "metadata": {},
          "execution_count": 35
        }
      ]
    },
    {
      "cell_type": "markdown",
      "source": [
        "**.size()**"
      ],
      "metadata": {
        "id": "PLLu55SuXCbc"
      }
    },
    {
      "cell_type": "code",
      "source": [
        "tensor.size()"
      ],
      "metadata": {
        "colab": {
          "base_uri": "https://localhost:8080/"
        },
        "id": "7IFJIKWLW3sx",
        "outputId": "caed3a87-aa94-4cbf-cbb2-6145e3684faa"
      },
      "execution_count": 36,
      "outputs": [
        {
          "output_type": "execute_result",
          "data": {
            "text/plain": [
              "torch.Size([2, 2, 3])"
            ]
          },
          "metadata": {},
          "execution_count": 36
        }
      ]
    },
    {
      "cell_type": "code",
      "source": [
        "tensor.size(0)"
      ],
      "metadata": {
        "colab": {
          "base_uri": "https://localhost:8080/"
        },
        "id": "S2pHynUhXH-Z",
        "outputId": "202cc32c-36ec-449b-96a4-77384529272d"
      },
      "execution_count": 37,
      "outputs": [
        {
          "output_type": "execute_result",
          "data": {
            "text/plain": [
              "2"
            ]
          },
          "metadata": {},
          "execution_count": 37
        }
      ]
    },
    {
      "cell_type": "markdown",
      "source": [
        "**.min(), .max()**"
      ],
      "metadata": {
        "id": "m03-1QZsXNlg"
      }
    },
    {
      "cell_type": "code",
      "source": [
        "tensor.min()"
      ],
      "metadata": {
        "colab": {
          "base_uri": "https://localhost:8080/"
        },
        "id": "5JUQeCoSXLCg",
        "outputId": "638f1419-1b8a-4232-d1ef-efad6f0e9660"
      },
      "execution_count": 38,
      "outputs": [
        {
          "output_type": "execute_result",
          "data": {
            "text/plain": [
              "tensor(1.)"
            ]
          },
          "metadata": {},
          "execution_count": 38
        }
      ]
    },
    {
      "cell_type": "markdown",
      "source": [
        "**.mean(), .std()**"
      ],
      "metadata": {
        "id": "NY-JBYFFXdyG"
      }
    },
    {
      "cell_type": "code",
      "source": [
        "#torch can just do this statistical functions on the tensors in the type float or complex\n",
        "vec.mean()"
      ],
      "metadata": {
        "colab": {
          "base_uri": "https://localhost:8080/",
          "height": 141
        },
        "id": "tFK_lkEHXrFX",
        "outputId": "c720d89b-a119-4c70-a4c3-1b7f720b4652"
      },
      "execution_count": 41,
      "outputs": [
        {
          "output_type": "error",
          "ename": "RuntimeError",
          "evalue": "mean(): could not infer output dtype. Input dtype must be either a floating point or complex dtype. Got: Long",
          "traceback": [
            "\u001b[0;31m---------------------------------------------------------------------------\u001b[0m",
            "\u001b[0;31mRuntimeError\u001b[0m                              Traceback (most recent call last)",
            "\u001b[0;32m<ipython-input-41-a946f77f94c8>\u001b[0m in \u001b[0;36m<cell line: 1>\u001b[0;34m()\u001b[0m\n\u001b[0;32m----> 1\u001b[0;31m \u001b[0mvec\u001b[0m\u001b[0;34m.\u001b[0m\u001b[0mmean\u001b[0m\u001b[0;34m(\u001b[0m\u001b[0;34m)\u001b[0m\u001b[0;34m\u001b[0m\u001b[0;34m\u001b[0m\u001b[0m\n\u001b[0m",
            "\u001b[0;31mRuntimeError\u001b[0m: mean(): could not infer output dtype. Input dtype must be either a floating point or complex dtype. Got: Long"
          ]
        }
      ]
    },
    {
      "cell_type": "code",
      "source": [
        "vec.float().mean()"
      ],
      "metadata": {
        "colab": {
          "base_uri": "https://localhost:8080/"
        },
        "id": "gZWUs7dtXRoJ",
        "outputId": "eda75093-a05e-4f19-dd23-85e883e647e2"
      },
      "execution_count": 40,
      "outputs": [
        {
          "output_type": "execute_result",
          "data": {
            "text/plain": [
              "tensor(2.)"
            ]
          },
          "metadata": {},
          "execution_count": 40
        }
      ]
    },
    {
      "cell_type": "code",
      "source": [
        "vec.float().std()"
      ],
      "metadata": {
        "colab": {
          "base_uri": "https://localhost:8080/"
        },
        "id": "-kydigfcXjlV",
        "outputId": "82969213-320e-4a74-c9a4-217a73ec6cca"
      },
      "execution_count": 42,
      "outputs": [
        {
          "output_type": "execute_result",
          "data": {
            "text/plain": [
              "tensor(1.)"
            ]
          },
          "metadata": {},
          "execution_count": 42
        }
      ]
    },
    {
      "cell_type": "markdown",
      "source": [
        "**.t()**"
      ],
      "metadata": {
        "id": "nfqLMJ0WX8SQ"
      }
    },
    {
      "cell_type": "code",
      "source": [
        "#transpose\n",
        "#we can just run it on the <= 2 dimentional tensors\n",
        "mat.t()"
      ],
      "metadata": {
        "colab": {
          "base_uri": "https://localhost:8080/"
        },
        "id": "tIy11TiSXvg_",
        "outputId": "01f6399d-1351-496d-a146-34e3568cfda1"
      },
      "execution_count": 44,
      "outputs": [
        {
          "output_type": "execute_result",
          "data": {
            "text/plain": [
              "tensor([[1, 4],\n",
              "        [2, 5],\n",
              "        [3, 6]])"
            ]
          },
          "metadata": {},
          "execution_count": 44
        }
      ]
    },
    {
      "cell_type": "markdown",
      "source": [
        "**note:**\n",
        "functions with _ at the end of them are done inplace. It means the output will be overwrited in the variable.\n",
        "\n",
        "for example: a.abs_() and a.abs()"
      ],
      "metadata": {
        "id": "yfWuUmidYZfb"
      }
    },
    {
      "cell_type": "markdown",
      "source": [
        "##special arrays"
      ],
      "metadata": {
        "id": "5Xs5aAEeY-DM"
      }
    },
    {
      "cell_type": "code",
      "source": [
        "torch.ones((1,3)),torch.ones((3)), torch.ones((2,3,4,3))"
      ],
      "metadata": {
        "colab": {
          "base_uri": "https://localhost:8080/"
        },
        "id": "HzeDihAbYY7z",
        "outputId": "b8f2c1d0-487a-494c-e36f-5dee2b282d3c"
      },
      "execution_count": 49,
      "outputs": [
        {
          "output_type": "execute_result",
          "data": {
            "text/plain": [
              "(tensor([[1., 1., 1.]]),\n",
              " tensor([1., 1., 1.]),\n",
              " tensor([[[[1., 1., 1.],\n",
              "           [1., 1., 1.],\n",
              "           [1., 1., 1.],\n",
              "           [1., 1., 1.]],\n",
              " \n",
              "          [[1., 1., 1.],\n",
              "           [1., 1., 1.],\n",
              "           [1., 1., 1.],\n",
              "           [1., 1., 1.]],\n",
              " \n",
              "          [[1., 1., 1.],\n",
              "           [1., 1., 1.],\n",
              "           [1., 1., 1.],\n",
              "           [1., 1., 1.]]],\n",
              " \n",
              " \n",
              "         [[[1., 1., 1.],\n",
              "           [1., 1., 1.],\n",
              "           [1., 1., 1.],\n",
              "           [1., 1., 1.]],\n",
              " \n",
              "          [[1., 1., 1.],\n",
              "           [1., 1., 1.],\n",
              "           [1., 1., 1.],\n",
              "           [1., 1., 1.]],\n",
              " \n",
              "          [[1., 1., 1.],\n",
              "           [1., 1., 1.],\n",
              "           [1., 1., 1.],\n",
              "           [1., 1., 1.]]]]))"
            ]
          },
          "metadata": {},
          "execution_count": 49
        }
      ]
    },
    {
      "cell_type": "code",
      "source": [
        "torch.zeros((0,3))"
      ],
      "metadata": {
        "colab": {
          "base_uri": "https://localhost:8080/"
        },
        "id": "xp_EL3mFYBN-",
        "outputId": "804fcf2f-38fc-4564-f87b-9964b5a78ea8"
      },
      "execution_count": 50,
      "outputs": [
        {
          "output_type": "execute_result",
          "data": {
            "text/plain": [
              "tensor([], size=(0, 3))"
            ]
          },
          "metadata": {},
          "execution_count": 50
        }
      ]
    },
    {
      "cell_type": "code",
      "source": [
        "#identity matrix\n",
        "torch.eye(5)"
      ],
      "metadata": {
        "colab": {
          "base_uri": "https://localhost:8080/"
        },
        "id": "X0denwCCZWMp",
        "outputId": "1a7a1382-530d-4ede-d6a3-a09e8e4dcf3e"
      },
      "execution_count": 51,
      "outputs": [
        {
          "output_type": "execute_result",
          "data": {
            "text/plain": [
              "tensor([[1., 0., 0., 0., 0.],\n",
              "        [0., 1., 0., 0., 0.],\n",
              "        [0., 0., 1., 0., 0.],\n",
              "        [0., 0., 0., 1., 0.],\n",
              "        [0., 0., 0., 0., 1.]])"
            ]
          },
          "metadata": {},
          "execution_count": 51
        }
      ]
    },
    {
      "cell_type": "code",
      "source": [
        "torch.eye(5,4, dtype=torch.int8)"
      ],
      "metadata": {
        "colab": {
          "base_uri": "https://localhost:8080/"
        },
        "id": "sW7UwaDnZa7T",
        "outputId": "f37e1241-515e-4935-892f-a5913b0662c1"
      },
      "execution_count": 55,
      "outputs": [
        {
          "output_type": "execute_result",
          "data": {
            "text/plain": [
              "tensor([[1, 0, 0, 0],\n",
              "        [0, 1, 0, 0],\n",
              "        [0, 0, 1, 0],\n",
              "        [0, 0, 0, 1],\n",
              "        [0, 0, 0, 0]], dtype=torch.int8)"
            ]
          },
          "metadata": {},
          "execution_count": 55
        }
      ]
    },
    {
      "cell_type": "code",
      "source": [
        "em=torch.empty(3,3)\n",
        "em"
      ],
      "metadata": {
        "colab": {
          "base_uri": "https://localhost:8080/"
        },
        "id": "v78645IDZg7r",
        "outputId": "87eebe54-1a11-44a5-e99c-b6186c0ad64e"
      },
      "execution_count": 57,
      "outputs": [
        {
          "output_type": "execute_result",
          "data": {
            "text/plain": [
              "tensor([[ 7.4175e-09,  4.4823e-41,  1.1918e+23],\n",
              "        [ 3.3076e-41,  4.4842e-44,  0.0000e+00],\n",
              "        [ 1.7937e-43,  0.0000e+00, -1.9832e+02]])"
            ]
          },
          "metadata": {},
          "execution_count": 57
        }
      ]
    },
    {
      "cell_type": "code",
      "source": [
        "em.fill_(2.2)"
      ],
      "metadata": {
        "colab": {
          "base_uri": "https://localhost:8080/"
        },
        "id": "cOUtf7z-Zvla",
        "outputId": "eb778557-4448-463e-982a-c23cba429646"
      },
      "execution_count": 58,
      "outputs": [
        {
          "output_type": "execute_result",
          "data": {
            "text/plain": [
              "tensor([[2.2000, 2.2000, 2.2000],\n",
              "        [2.2000, 2.2000, 2.2000],\n",
              "        [2.2000, 2.2000, 2.2000]])"
            ]
          },
          "metadata": {},
          "execution_count": 58
        }
      ]
    },
    {
      "cell_type": "code",
      "source": [
        "torch.full((3,3),fill_value=8)"
      ],
      "metadata": {
        "colab": {
          "base_uri": "https://localhost:8080/"
        },
        "id": "99q5ickGZ3xU",
        "outputId": "a40fe63c-a711-4f37-8faf-3206fa1157bd"
      },
      "execution_count": 59,
      "outputs": [
        {
          "output_type": "execute_result",
          "data": {
            "text/plain": [
              "tensor([[8, 8, 8],\n",
              "        [8, 8, 8],\n",
              "        [8, 8, 8]])"
            ]
          },
          "metadata": {},
          "execution_count": 59
        }
      ]
    },
    {
      "cell_type": "code",
      "source": [],
      "metadata": {
        "id": "N3T8HTlRaCw3"
      },
      "execution_count": null,
      "outputs": []
    }
  ]
}